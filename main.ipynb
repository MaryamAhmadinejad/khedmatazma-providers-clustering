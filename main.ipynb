{
 "cells": [
  {
   "cell_type": "markdown",
   "metadata": {},
   "source": [
    "<div style=\"background-color: #009fd9; border-radius:0.25rem; padding-top:0.75rem; padding-bottom:1rem;\">\n",
    "  <h1 style=\"text-align:center;\"> Providers Clustering </h1>\n",
    "</div>"
   ]
  },
  {
   "cell_type": "markdown",
   "metadata": {},
   "source": [
    "## Import the Libraries"
   ]
  },
  {
   "cell_type": "code",
   "execution_count": 125,
   "metadata": {},
   "outputs": [],
   "source": [
    "import pandas as pd"
   ]
  },
  {
   "cell_type": "markdown",
   "metadata": {},
   "source": [
    "## Load Data"
   ]
  },
  {
   "cell_type": "code",
   "execution_count": 126,
   "metadata": {},
   "outputs": [
    {
     "data": {
      "text/html": [
       "<div>\n",
       "<style scoped>\n",
       "    .dataframe tbody tr th:only-of-type {\n",
       "        vertical-align: middle;\n",
       "    }\n",
       "\n",
       "    .dataframe tbody tr th {\n",
       "        vertical-align: top;\n",
       "    }\n",
       "\n",
       "    .dataframe thead th {\n",
       "        text-align: right;\n",
       "    }\n",
       "</style>\n",
       "<table border=\"1\" class=\"dataframe\">\n",
       "  <thead>\n",
       "    <tr style=\"text-align: right;\">\n",
       "      <th></th>\n",
       "      <th>provider_user_id</th>\n",
       "      <th>wallet_charged_date</th>\n",
       "      <th>wallet_charged_amount</th>\n",
       "    </tr>\n",
       "  </thead>\n",
       "  <tbody>\n",
       "    <tr>\n",
       "      <th>0</th>\n",
       "      <td>550102</td>\n",
       "      <td>2024-11-26 01:34:12</td>\n",
       "      <td>5000000</td>\n",
       "    </tr>\n",
       "    <tr>\n",
       "      <th>1</th>\n",
       "      <td>2019793</td>\n",
       "      <td>2024-11-26 01:04:23</td>\n",
       "      <td>2000000</td>\n",
       "    </tr>\n",
       "    <tr>\n",
       "      <th>2</th>\n",
       "      <td>430227</td>\n",
       "      <td>2024-11-26 01:35:09</td>\n",
       "      <td>2000000</td>\n",
       "    </tr>\n",
       "    <tr>\n",
       "      <th>3</th>\n",
       "      <td>739799</td>\n",
       "      <td>2024-11-26 00:47:09</td>\n",
       "      <td>2000000</td>\n",
       "    </tr>\n",
       "    <tr>\n",
       "      <th>4</th>\n",
       "      <td>2093162</td>\n",
       "      <td>2024-11-26 03:11:53</td>\n",
       "      <td>1600000</td>\n",
       "    </tr>\n",
       "  </tbody>\n",
       "</table>\n",
       "</div>"
      ],
      "text/plain": [
       "   provider_user_id wallet_charged_date  wallet_charged_amount\n",
       "0            550102 2024-11-26 01:34:12                5000000\n",
       "1           2019793 2024-11-26 01:04:23                2000000\n",
       "2            430227 2024-11-26 01:35:09                2000000\n",
       "3            739799 2024-11-26 00:47:09                2000000\n",
       "4           2093162 2024-11-26 03:11:53                1600000"
      ]
     },
     "execution_count": 126,
     "metadata": {},
     "output_type": "execute_result"
    }
   ],
   "source": [
    "df = pd.read_excel('data/wallet_charges.xlsx', parse_dates=['wallet_charged_date'])\n",
    "\n",
    "df.head()"
   ]
  },
  {
   "cell_type": "markdown",
   "metadata": {},
   "source": [
    "## First Month Data"
   ]
  },
  {
   "cell_type": "code",
   "execution_count": 127,
   "metadata": {},
   "outputs": [],
   "source": [
    "first_date = df[\"wallet_charged_date\"].min().normalize()\n",
    "first_day_of_first_month = first_date.replace(day=1)\n",
    "exists_first_or_second_day = (\n",
    "    df[\"wallet_charged_date\"]\n",
    "    .dt.floor(\"D\")\n",
    "    .isin([first_day_of_first_month, first_day_of_first_month + pd.Timedelta(days=1)])\n",
    ").any()\n",
    "\n",
    "if not exists_first_or_second_day:\n",
    "    df = df[~(df[\"wallet_charged_date\"].dt.month == first_date.month)]\n"
   ]
  },
  {
   "cell_type": "markdown",
   "metadata": {},
   "source": [
    "## Last Month Data"
   ]
  },
  {
   "cell_type": "code",
   "execution_count": 128,
   "metadata": {},
   "outputs": [
    {
     "data": {
      "text/html": [
       "<div>\n",
       "<style scoped>\n",
       "    .dataframe tbody tr th:only-of-type {\n",
       "        vertical-align: middle;\n",
       "    }\n",
       "\n",
       "    .dataframe tbody tr th {\n",
       "        vertical-align: top;\n",
       "    }\n",
       "\n",
       "    .dataframe thead th {\n",
       "        text-align: right;\n",
       "    }\n",
       "</style>\n",
       "<table border=\"1\" class=\"dataframe\">\n",
       "  <thead>\n",
       "    <tr style=\"text-align: right;\">\n",
       "      <th></th>\n",
       "      <th>provider_user_id</th>\n",
       "      <th>wallet_charged_date</th>\n",
       "      <th>wallet_charged_amount</th>\n",
       "    </tr>\n",
       "  </thead>\n",
       "  <tbody>\n",
       "    <tr>\n",
       "      <th>14961</th>\n",
       "      <td>2219963</td>\n",
       "      <td>2024-10-31 20:37:27</td>\n",
       "      <td>7000000</td>\n",
       "    </tr>\n",
       "    <tr>\n",
       "      <th>14962</th>\n",
       "      <td>1422472</td>\n",
       "      <td>2024-10-31 00:01:27</td>\n",
       "      <td>5000000</td>\n",
       "    </tr>\n",
       "    <tr>\n",
       "      <th>14963</th>\n",
       "      <td>386026</td>\n",
       "      <td>2024-10-31 19:40:58</td>\n",
       "      <td>5000000</td>\n",
       "    </tr>\n",
       "    <tr>\n",
       "      <th>14964</th>\n",
       "      <td>2154119</td>\n",
       "      <td>2024-10-31 16:41:21</td>\n",
       "      <td>5000000</td>\n",
       "    </tr>\n",
       "    <tr>\n",
       "      <th>14965</th>\n",
       "      <td>888178</td>\n",
       "      <td>2024-10-31 14:55:54</td>\n",
       "      <td>5000000</td>\n",
       "    </tr>\n",
       "  </tbody>\n",
       "</table>\n",
       "</div>"
      ],
      "text/plain": [
       "       provider_user_id wallet_charged_date  wallet_charged_amount\n",
       "14961           2219963 2024-10-31 20:37:27                7000000\n",
       "14962           1422472 2024-10-31 00:01:27                5000000\n",
       "14963            386026 2024-10-31 19:40:58                5000000\n",
       "14964           2154119 2024-10-31 16:41:21                5000000\n",
       "14965            888178 2024-10-31 14:55:54                5000000"
      ]
     },
     "execution_count": 128,
     "metadata": {},
     "output_type": "execute_result"
    }
   ],
   "source": [
    "last_date = df[\"wallet_charged_date\"].max().normalize()\n",
    "last_day_of_last_month = last_date.replace(day=1) + pd.offsets.MonthEnd(0)\n",
    "exists_last_day = (\n",
    "    df[\"wallet_charged_date\"]\n",
    "    .dt.floor(\"D\")\n",
    "    .isin([last_day_of_last_month, last_day_of_last_month - pd.Timedelta(days=1)])\n",
    ").any()\n",
    "\n",
    "if not exists_last_day:\n",
    "    df = df[~(df[\"wallet_charged_date\"].dt.month == last_date.month)]\n",
    "\n",
    "df.head()"
   ]
  },
  {
   "cell_type": "markdown",
   "metadata": {},
   "source": [
    "## Changing Types"
   ]
  },
  {
   "cell_type": "code",
   "execution_count": 129,
   "metadata": {},
   "outputs": [
    {
     "name": "stdout",
     "output_type": "stream",
     "text": [
      "<class 'pandas.core.frame.DataFrame'>\n",
      "Index: 79062 entries, 14961 to 94022\n",
      "Data columns (total 3 columns):\n",
      " #   Column                 Non-Null Count  Dtype    \n",
      "---  ------                 --------------  -----    \n",
      " 0   provider_user_id       79062 non-null  int64    \n",
      " 1   wallet_charged_month   79062 non-null  period[M]\n",
      " 2   wallet_charged_amount  79062 non-null  int32    \n",
      "dtypes: int32(1), int64(1), period[M](1)\n",
      "memory usage: 2.1 MB\n"
     ]
    }
   ],
   "source": [
    "df['wallet_charged_amount'] = df['wallet_charged_amount'].astype('int32')\n",
    "df['wallet_charged_date'] = df['wallet_charged_date'].dt.to_period('M')\n",
    "df.rename(columns={'wallet_charged_date': 'wallet_charged_month'}, inplace=True)\n",
    "df.info()"
   ]
  },
  {
   "cell_type": "markdown",
   "metadata": {},
   "source": [
    "## Monthly Abstraction"
   ]
  },
  {
   "cell_type": "code",
   "execution_count": 130,
   "metadata": {},
   "outputs": [
    {
     "data": {
      "text/html": [
       "<div>\n",
       "<style scoped>\n",
       "    .dataframe tbody tr th:only-of-type {\n",
       "        vertical-align: middle;\n",
       "    }\n",
       "\n",
       "    .dataframe tbody tr th {\n",
       "        vertical-align: top;\n",
       "    }\n",
       "\n",
       "    .dataframe thead th {\n",
       "        text-align: right;\n",
       "    }\n",
       "</style>\n",
       "<table border=\"1\" class=\"dataframe\">\n",
       "  <thead>\n",
       "    <tr style=\"text-align: right;\">\n",
       "      <th></th>\n",
       "      <th>provider_user_id</th>\n",
       "      <th>wallet_charged_month</th>\n",
       "      <th>monthly_total</th>\n",
       "      <th>monthly_count</th>\n",
       "    </tr>\n",
       "  </thead>\n",
       "  <tbody>\n",
       "    <tr>\n",
       "      <th>0</th>\n",
       "      <td>256</td>\n",
       "      <td>2024-07</td>\n",
       "      <td>4000000</td>\n",
       "      <td>2</td>\n",
       "    </tr>\n",
       "    <tr>\n",
       "      <th>1</th>\n",
       "      <td>256</td>\n",
       "      <td>2024-08</td>\n",
       "      <td>2000000</td>\n",
       "      <td>1</td>\n",
       "    </tr>\n",
       "    <tr>\n",
       "      <th>2</th>\n",
       "      <td>256</td>\n",
       "      <td>2024-09</td>\n",
       "      <td>2000000</td>\n",
       "      <td>1</td>\n",
       "    </tr>\n",
       "    <tr>\n",
       "      <th>3</th>\n",
       "      <td>256</td>\n",
       "      <td>2024-10</td>\n",
       "      <td>4000000</td>\n",
       "      <td>2</td>\n",
       "    </tr>\n",
       "    <tr>\n",
       "      <th>4</th>\n",
       "      <td>394</td>\n",
       "      <td>2024-08</td>\n",
       "      <td>1000000</td>\n",
       "      <td>1</td>\n",
       "    </tr>\n",
       "  </tbody>\n",
       "</table>\n",
       "</div>"
      ],
      "text/plain": [
       "   provider_user_id wallet_charged_month  monthly_total  monthly_count\n",
       "0               256              2024-07        4000000              2\n",
       "1               256              2024-08        2000000              1\n",
       "2               256              2024-09        2000000              1\n",
       "3               256              2024-10        4000000              2\n",
       "4               394              2024-08        1000000              1"
      ]
     },
     "execution_count": 130,
     "metadata": {},
     "output_type": "execute_result"
    }
   ],
   "source": [
    "monthly_df = df.groupby(['provider_user_id', 'wallet_charged_month']).agg(\n",
    "    monthly_total=('wallet_charged_amount', 'sum'),\n",
    "    monthly_count=('wallet_charged_amount', 'count')\n",
    ").reset_index()\n",
    "monthly_df.head()"
   ]
  },
  {
   "cell_type": "markdown",
   "metadata": {},
   "source": [
    "## Feature Extraction"
   ]
  },
  {
   "cell_type": "code",
   "execution_count": 131,
   "metadata": {},
   "outputs": [
    {
     "data": {
      "text/html": [
       "<div>\n",
       "<style scoped>\n",
       "    .dataframe tbody tr th:only-of-type {\n",
       "        vertical-align: middle;\n",
       "    }\n",
       "\n",
       "    .dataframe tbody tr th {\n",
       "        vertical-align: top;\n",
       "    }\n",
       "\n",
       "    .dataframe thead th {\n",
       "        text-align: right;\n",
       "    }\n",
       "</style>\n",
       "<table border=\"1\" class=\"dataframe\">\n",
       "  <thead>\n",
       "    <tr style=\"text-align: right;\">\n",
       "      <th></th>\n",
       "      <th>provider_user_id</th>\n",
       "      <th>median_monthly_total</th>\n",
       "      <th>std_monthly_total</th>\n",
       "      <th>total_active_months</th>\n",
       "      <th>is_new</th>\n",
       "      <th>is_active_now</th>\n",
       "    </tr>\n",
       "  </thead>\n",
       "  <tbody>\n",
       "    <tr>\n",
       "      <th>0</th>\n",
       "      <td>256</td>\n",
       "      <td>3000000.0</td>\n",
       "      <td>1.154701e+06</td>\n",
       "      <td>4</td>\n",
       "      <td>0</td>\n",
       "      <td>1</td>\n",
       "    </tr>\n",
       "    <tr>\n",
       "      <th>1</th>\n",
       "      <td>394</td>\n",
       "      <td>1000000.0</td>\n",
       "      <td>0.000000e+00</td>\n",
       "      <td>1</td>\n",
       "      <td>0</td>\n",
       "      <td>0</td>\n",
       "    </tr>\n",
       "    <tr>\n",
       "      <th>2</th>\n",
       "      <td>415</td>\n",
       "      <td>500000.0</td>\n",
       "      <td>0.000000e+00</td>\n",
       "      <td>1</td>\n",
       "      <td>0</td>\n",
       "      <td>0</td>\n",
       "    </tr>\n",
       "    <tr>\n",
       "      <th>3</th>\n",
       "      <td>418</td>\n",
       "      <td>1500000.0</td>\n",
       "      <td>1.436431e+06</td>\n",
       "      <td>3</td>\n",
       "      <td>0</td>\n",
       "      <td>1</td>\n",
       "    </tr>\n",
       "    <tr>\n",
       "      <th>4</th>\n",
       "      <td>436</td>\n",
       "      <td>750000.0</td>\n",
       "      <td>3.535534e+05</td>\n",
       "      <td>2</td>\n",
       "      <td>0</td>\n",
       "      <td>1</td>\n",
       "    </tr>\n",
       "  </tbody>\n",
       "</table>\n",
       "</div>"
      ],
      "text/plain": [
       "   provider_user_id  median_monthly_total  std_monthly_total  \\\n",
       "0               256             3000000.0       1.154701e+06   \n",
       "1               394             1000000.0       0.000000e+00   \n",
       "2               415              500000.0       0.000000e+00   \n",
       "3               418             1500000.0       1.436431e+06   \n",
       "4               436              750000.0       3.535534e+05   \n",
       "\n",
       "   total_active_months  is_new  is_active_now  \n",
       "0                    4       0              1  \n",
       "1                    1       0              0  \n",
       "2                    1       0              0  \n",
       "3                    3       0              1  \n",
       "4                    2       0              1  "
      ]
     },
     "execution_count": 131,
     "metadata": {},
     "output_type": "execute_result"
    }
   ],
   "source": [
    "latest_month = monthly_df[\"wallet_charged_month\"].max()\n",
    "\n",
    "aggregated = monthly_df.groupby(\"provider_user_id\").agg(\n",
    "    latest_month_user=('wallet_charged_month', 'max'),\n",
    "    total_active_months=('wallet_charged_month', 'count'),\n",
    "    median_monthly_total=('monthly_total', 'median'),\n",
    "    std_monthly_total=('monthly_total', 'std')\n",
    ").reset_index()\n",
    "aggregated['std_monthly_total'] = aggregated['std_monthly_total'].fillna(0)\n",
    "\n",
    "aggregated['is_new'] = ((aggregated['total_active_months'] == 1) & (aggregated['latest_month_user'] == latest_month)).astype(int)\n",
    "aggregated['is_active_now'] = (aggregated['latest_month_user'] == latest_month).astype(int)\n",
    "\n",
    "providers = aggregated[['provider_user_id', 'median_monthly_total', 'std_monthly_total', 'total_active_months', 'is_new', 'is_active_now']]\n",
    "\n",
    "providers.head()\n"
   ]
  }
 ],
 "metadata": {
  "kernelspec": {
   "display_name": "venv",
   "language": "python",
   "name": "python3"
  },
  "language_info": {
   "codemirror_mode": {
    "name": "ipython",
    "version": 3
   },
   "file_extension": ".py",
   "mimetype": "text/x-python",
   "name": "python",
   "nbconvert_exporter": "python",
   "pygments_lexer": "ipython3",
   "version": "3.11.4"
  },
  "orig_nbformat": 4
 },
 "nbformat": 4,
 "nbformat_minor": 2
}
