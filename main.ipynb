{
 "cells": [
  {
   "cell_type": "markdown",
   "metadata": {},
   "source": [
    "<div style=\"background-color: #009fd9; border-radius:0.25rem; padding-top:0.75rem; padding-bottom:1rem;\">\n",
    "  <h1 style=\"text-align:center;\"> Providers Clustering </h1>\n",
    "</div>"
   ]
  },
  {
   "cell_type": "markdown",
   "metadata": {},
   "source": [
    "## Import the Libraries"
   ]
  },
  {
   "cell_type": "code",
   "execution_count": 5,
   "metadata": {},
   "outputs": [],
   "source": [
    "import pandas as pd"
   ]
  },
  {
   "cell_type": "markdown",
   "metadata": {},
   "source": [
    "## Load Data"
   ]
  },
  {
   "cell_type": "code",
   "execution_count": 50,
   "metadata": {},
   "outputs": [
    {
     "data": {
      "text/html": [
       "<div>\n",
       "<style scoped>\n",
       "    .dataframe tbody tr th:only-of-type {\n",
       "        vertical-align: middle;\n",
       "    }\n",
       "\n",
       "    .dataframe tbody tr th {\n",
       "        vertical-align: top;\n",
       "    }\n",
       "\n",
       "    .dataframe thead th {\n",
       "        text-align: right;\n",
       "    }\n",
       "</style>\n",
       "<table border=\"1\" class=\"dataframe\">\n",
       "  <thead>\n",
       "    <tr style=\"text-align: right;\">\n",
       "      <th></th>\n",
       "      <th>provider_user_id</th>\n",
       "      <th>wallet_charged_date</th>\n",
       "      <th>wallet_charged_amount</th>\n",
       "    </tr>\n",
       "  </thead>\n",
       "  <tbody>\n",
       "    <tr>\n",
       "      <th>0</th>\n",
       "      <td>550102</td>\n",
       "      <td>2024-11-26 01:34:12</td>\n",
       "      <td>5000000</td>\n",
       "    </tr>\n",
       "    <tr>\n",
       "      <th>1</th>\n",
       "      <td>2019793</td>\n",
       "      <td>2024-11-26 01:04:23</td>\n",
       "      <td>2000000</td>\n",
       "    </tr>\n",
       "    <tr>\n",
       "      <th>2</th>\n",
       "      <td>430227</td>\n",
       "      <td>2024-11-26 01:35:09</td>\n",
       "      <td>2000000</td>\n",
       "    </tr>\n",
       "    <tr>\n",
       "      <th>3</th>\n",
       "      <td>739799</td>\n",
       "      <td>2024-11-26 00:47:09</td>\n",
       "      <td>2000000</td>\n",
       "    </tr>\n",
       "    <tr>\n",
       "      <th>4</th>\n",
       "      <td>2093162</td>\n",
       "      <td>2024-11-26 03:11:53</td>\n",
       "      <td>1600000</td>\n",
       "    </tr>\n",
       "  </tbody>\n",
       "</table>\n",
       "</div>"
      ],
      "text/plain": [
       "   provider_user_id wallet_charged_date  wallet_charged_amount\n",
       "0            550102 2024-11-26 01:34:12                5000000\n",
       "1           2019793 2024-11-26 01:04:23                2000000\n",
       "2            430227 2024-11-26 01:35:09                2000000\n",
       "3            739799 2024-11-26 00:47:09                2000000\n",
       "4           2093162 2024-11-26 03:11:53                1600000"
      ]
     },
     "execution_count": 50,
     "metadata": {},
     "output_type": "execute_result"
    }
   ],
   "source": [
    "df = pd.read_excel('data/wallet_charges.xlsx', parse_dates=['wallet_charged_date'])\n",
    "\n",
    "df.head()"
   ]
  },
  {
   "cell_type": "markdown",
   "metadata": {},
   "source": [
    "## First Month Data"
   ]
  },
  {
   "cell_type": "code",
   "execution_count": 52,
   "metadata": {},
   "outputs": [],
   "source": [
    "first_date = df[\"wallet_charged_date\"].min().normalize()\n",
    "first_day_of_first_month = first_date.replace(day=1)\n",
    "exists_first_or_second_day = (\n",
    "    df[\"wallet_charged_date\"]\n",
    "    .dt.floor(\"D\")\n",
    "    .isin([first_day_of_first_month, first_day_of_first_month + pd.Timedelta(days=1)])\n",
    ").any()\n",
    "\n",
    "if not exists_first_or_second_day:\n",
    "    df = df[~(df[\"wallet_charged_date\"].dt.month == first_date.month)]\n"
   ]
  },
  {
   "cell_type": "markdown",
   "metadata": {},
   "source": [
    "## Last Month Data"
   ]
  },
  {
   "cell_type": "code",
   "execution_count": 53,
   "metadata": {},
   "outputs": [
    {
     "data": {
      "text/html": [
       "<div>\n",
       "<style scoped>\n",
       "    .dataframe tbody tr th:only-of-type {\n",
       "        vertical-align: middle;\n",
       "    }\n",
       "\n",
       "    .dataframe tbody tr th {\n",
       "        vertical-align: top;\n",
       "    }\n",
       "\n",
       "    .dataframe thead th {\n",
       "        text-align: right;\n",
       "    }\n",
       "</style>\n",
       "<table border=\"1\" class=\"dataframe\">\n",
       "  <thead>\n",
       "    <tr style=\"text-align: right;\">\n",
       "      <th></th>\n",
       "      <th>provider_user_id</th>\n",
       "      <th>wallet_charged_date</th>\n",
       "      <th>wallet_charged_amount</th>\n",
       "    </tr>\n",
       "  </thead>\n",
       "  <tbody>\n",
       "    <tr>\n",
       "      <th>14961</th>\n",
       "      <td>2219963</td>\n",
       "      <td>2024-10-31 20:37:27</td>\n",
       "      <td>7000000</td>\n",
       "    </tr>\n",
       "    <tr>\n",
       "      <th>14962</th>\n",
       "      <td>1422472</td>\n",
       "      <td>2024-10-31 00:01:27</td>\n",
       "      <td>5000000</td>\n",
       "    </tr>\n",
       "    <tr>\n",
       "      <th>14963</th>\n",
       "      <td>386026</td>\n",
       "      <td>2024-10-31 19:40:58</td>\n",
       "      <td>5000000</td>\n",
       "    </tr>\n",
       "    <tr>\n",
       "      <th>14964</th>\n",
       "      <td>2154119</td>\n",
       "      <td>2024-10-31 16:41:21</td>\n",
       "      <td>5000000</td>\n",
       "    </tr>\n",
       "    <tr>\n",
       "      <th>14965</th>\n",
       "      <td>888178</td>\n",
       "      <td>2024-10-31 14:55:54</td>\n",
       "      <td>5000000</td>\n",
       "    </tr>\n",
       "  </tbody>\n",
       "</table>\n",
       "</div>"
      ],
      "text/plain": [
       "       provider_user_id wallet_charged_date  wallet_charged_amount\n",
       "14961           2219963 2024-10-31 20:37:27                7000000\n",
       "14962           1422472 2024-10-31 00:01:27                5000000\n",
       "14963            386026 2024-10-31 19:40:58                5000000\n",
       "14964           2154119 2024-10-31 16:41:21                5000000\n",
       "14965            888178 2024-10-31 14:55:54                5000000"
      ]
     },
     "execution_count": 53,
     "metadata": {},
     "output_type": "execute_result"
    }
   ],
   "source": [
    "last_date = df[\"wallet_charged_date\"].max().normalize()\n",
    "last_day_of_last_month = last_date.replace(day=1) + pd.offsets.MonthEnd(0)\n",
    "exists_last_day = (\n",
    "    df[\"wallet_charged_date\"]\n",
    "    .dt.floor(\"D\")\n",
    "    .isin([last_day_of_last_month, last_day_of_last_month - pd.Timedelta(days=1)])\n",
    ").any()\n",
    "\n",
    "if not exists_last_day:\n",
    "    df = df[~(df[\"wallet_charged_date\"].dt.month == last_date.month)]\n",
    "\n",
    "df.head()"
   ]
  },
  {
   "cell_type": "markdown",
   "metadata": {},
   "source": [
    "## Changing Types"
   ]
  },
  {
   "cell_type": "code",
   "execution_count": 26,
   "metadata": {},
   "outputs": [
    {
     "name": "stdout",
     "output_type": "stream",
     "text": [
      "<class 'pandas.core.frame.DataFrame'>\n",
      "RangeIndex: 94023 entries, 0 to 94022\n",
      "Data columns (total 3 columns):\n",
      " #   Column                 Non-Null Count  Dtype    \n",
      "---  ------                 --------------  -----    \n",
      " 0   provider_user_id       94023 non-null  int64    \n",
      " 1   wallet_charged_date    94023 non-null  period[M]\n",
      " 2   wallet_charged_amount  94023 non-null  int32    \n",
      "dtypes: int32(1), int64(1), period[M](1)\n",
      "memory usage: 1.8 MB\n"
     ]
    }
   ],
   "source": [
    "df['wallet_charged_amount'] = df['wallet_charged_amount'].astype('int32')\n",
    "df['wallet_charged_date'] = df['wallet_charged_date'].dt.to_period('M')\n",
    "df.info()"
   ]
  }
 ],
 "metadata": {
  "kernelspec": {
   "display_name": "venv",
   "language": "python",
   "name": "python3"
  },
  "language_info": {
   "codemirror_mode": {
    "name": "ipython",
    "version": 3
   },
   "file_extension": ".py",
   "mimetype": "text/x-python",
   "name": "python",
   "nbconvert_exporter": "python",
   "pygments_lexer": "ipython3",
   "version": "3.11.4"
  },
  "orig_nbformat": 4
 },
 "nbformat": 4,
 "nbformat_minor": 2
}
